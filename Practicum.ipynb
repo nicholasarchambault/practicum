{
 "cells": [
  {
   "cell_type": "code",
   "execution_count": 0,
   "metadata": {
    "application/vnd.databricks.v1+cell": {
     "cellMetadata": {
      "byteLimit": 2048000,
      "rowLimit": 10000
     },
     "inputWidgets": {},
     "nuid": "0f04664b-d94d-4586-8f90-e192e6738be0",
     "showTitle": false,
     "tableResultSettingsMap": {},
     "title": ""
    }
   },
   "outputs": [
    {
     "output_type": "stream",
     "name": "stderr",
     "output_type": "stream",
     "text": [
      "2024-11-26 16:24:25.646356: I tensorflow/tsl/cuda/cudart_stub.cc:28] Could not find cuda drivers on your machine, GPU will not be used.\n2024-11-26 16:24:25.675335: E tensorflow/compiler/xla/stream_executor/cuda/cuda_dnn.cc:9342] Unable to register cuDNN factory: Attempting to register factory for plugin cuDNN when one has already been registered\n2024-11-26 16:24:25.675378: E tensorflow/compiler/xla/stream_executor/cuda/cuda_fft.cc:609] Unable to register cuFFT factory: Attempting to register factory for plugin cuFFT when one has already been registered\n2024-11-26 16:24:25.675415: E tensorflow/compiler/xla/stream_executor/cuda/cuda_blas.cc:1518] Unable to register cuBLAS factory: Attempting to register factory for plugin cuBLAS when one has already been registered\n2024-11-26 16:24:25.682347: I tensorflow/tsl/cuda/cudart_stub.cc:28] Could not find cuda drivers on your machine, GPU will not be used.\n2024-11-26 16:24:25.684114: I tensorflow/core/platform/cpu_feature_guard.cc:182] This TensorFlow binary is optimized to use available CPU instructions in performance-critical operations.\nTo enable the following instructions: AVX2 FMA, in other operations, rebuild TensorFlow with the appropriate compiler flags.\n2024-11-26 16:24:26.455025: W tensorflow/compiler/tf2tensorrt/utils/py_utils.cc:38] TF-TRT Warning: Could not find TensorRT\n"
     ]
    }
   ],
   "source": [
    "# Load packages\n",
    "import pandas as pd\n",
    "import numpy as np\n",
    "import matplotlib.pyplot as plt\n",
    "import seaborn as sns\n",
    "from datetime import datetime, date, timedelta\n",
    "import warnings\n",
    "from sklearn.metrics import precision_score, recall_score, f1_score, roc_auc_score, confusion_matrix, roc_curve, auc, fbeta_score, accuracy_score\n",
    "from sklearn.model_selection import train_test_split, GridSearchCV\n",
    "from sklearn.preprocessing import OneHotEncoder, StandardScaler\n",
    "from sklearn.linear_model import LogisticRegression\n",
    "import tensorflow as tf\n",
    "from tensorflow.keras.models import Model\n",
    "from tensorflow.keras.layers import LSTM, RepeatVector, TimeDistributed, Dense, Input\n",
    "from tensorflow.keras.optimizers import Adam\n",
    "from sklearn.ensemble import RandomForestClassifier\n",
    "import joblib\n",
    "\n",
    "pd.set_option(\"display.max_columns\", None)\n",
    "\n",
    "# Suppress all future warnings\n",
    "warnings.simplefilter(action='ignore', category=FutureWarning)\n",
    "\n",
    "# Load Dow Industrial historical data\n",
    "data = pd.read_csv(\"/Workspace/Users/dzm0vy@nam.corp.gm.com/DJI.csv\")"
   ]
  },
  {
   "cell_type": "code",
   "execution_count": 0,
   "metadata": {
    "application/vnd.databricks.v1+cell": {
     "cellMetadata": {
      "byteLimit": 2048000,
      "rowLimit": 10000
     },
     "inputWidgets": {},
     "nuid": "4dba7327-83d4-4cfe-ac8f-6af21e622318",
     "showTitle": false,
     "tableResultSettingsMap": {},
     "title": ""
    }
   },
   "outputs": [],
   "source": [
    "# Extract day of week\n",
    "data['DayOfWeek'] = pd.to_datetime(data[\"Date\"]).dt.day_name()\n",
    "\n",
    "# Rename columns\n",
    "data.columns = [\"date\", \"open\", \"high\", \"low\", \"close\", \"volume\", \"day\"]\n",
    "data[\"date\"] = pd.to_datetime(data[\"date\"]).dt.date\n",
    "data.set_index(\"date\", inplace=True)\n",
    "data.index.name = None\n",
    "\n",
    "# Reset index\n",
    "data.index = pd.to_datetime(data.index)\n",
    "data = data.reset_index()\n",
    "\n",
    "data = data.rename(columns={\"index\":\"date\"})\n",
    "\n",
    "# Eliminate all dates with zero volume\n",
    "data = data.loc[data[\"volume\"] > 0]\n",
    "\n",
    "# Separate into 60-day groups\n",
    "data[\"group\"] = data.index // 60\n",
    "\n",
    "# Keep only data from between first and last group to ensure even partitioning\n",
    "data = data.loc[(data[\"group\"] < max(data[\"group\"])) & \n",
    "                (data[\"group\"] > min(data[\"group\"]))]\n",
    "\n",
    "# Define number of periods\n",
    "periods = data[\"group\"].nunique()"
   ]
  },
  {
   "cell_type": "code",
   "execution_count": 0,
   "metadata": {
    "application/vnd.databricks.v1+cell": {
     "cellMetadata": {
      "byteLimit": 2048000,
      "rowLimit": 10000
     },
     "inputWidgets": {},
     "nuid": "eb2057ff-c9d6-4b9f-a708-51972250d0ad",
     "showTitle": false,
     "tableResultSettingsMap": {},
     "title": ""
    }
   },
   "outputs": [],
   "source": [
    "# Calculate anomalies based on median absolute difference\n",
    "def MAD_anomaly(group):\n",
    "    sequence = group[\"close\"]\n",
    "    med = np.median(sequence)\n",
    "    MAD = np.median(abs(sequence - med))\n",
    "    threshold = 3 * 1.4826 * MAD \n",
    "    score = abs(sequence - med) / MAD\n",
    "    group[\"MAD\"] = np.where(score > (threshold / MAD), 1, 0)\n",
    "    \n",
    "    return group\n",
    "\n",
    "# Calculate anomalies based on rolling Z-score over 60-day period\n",
    "def rollingZ(group):\n",
    "    sequence = group[\"close\"]\n",
    "    rolling_mean = sequence.rolling(window=60, min_periods=1).mean()\n",
    "    rolling_std = sequence.rolling(window=60, min_periods=1).std()\n",
    "    \n",
    "    rollingZ = (sequence - rolling_mean) / rolling_std\n",
    "    group[\"Z\"] = np.where(abs(rollingZ) > 2.5, 1, 0)\n",
    "    \n",
    "    return group"
   ]
  },
  {
   "cell_type": "code",
   "execution_count": 0,
   "metadata": {
    "application/vnd.databricks.v1+cell": {
     "cellMetadata": {
      "byteLimit": 2048000,
      "rowLimit": 10000
     },
     "inputWidgets": {},
     "nuid": "0d1debcc-314f-481d-a7f7-2bb938e52c80",
     "showTitle": false,
     "tableResultSettingsMap": {},
     "title": ""
    }
   },
   "outputs": [],
   "source": [
    "data = data.groupby(\"group\").apply(MAD_anomaly).reset_index(drop=True)\n",
    "data = data.groupby(\"group\").apply(rollingZ).reset_index(drop=True)\n",
    "\n",
    "# Define an anomaly as one flagged by both MAD and rolling Z-score. MAD greater than rough equivalent of three standard deviations above MAD. Rolling Z-score greater than 2.5 standard deviations from mean.\n",
    "data[\"anomaly\"] = np.where((data[\"MAD\"] == 1) & (data[\"Z\"] == 1), 1, 0)"
   ]
  },
  {
   "cell_type": "markdown",
   "metadata": {
    "application/vnd.databricks.v1+cell": {
     "cellMetadata": {
      "byteLimit": 2048000,
      "rowLimit": 10000
     },
     "inputWidgets": {},
     "nuid": "0c170de1-f39d-48b6-b027-ea097583e20a",
     "showTitle": false,
     "tableResultSettingsMap": {},
     "title": ""
    }
   },
   "source": [
    "## Feature Engineering"
   ]
  },
  {
   "cell_type": "code",
   "execution_count": 0,
   "metadata": {
    "application/vnd.databricks.v1+cell": {
     "cellMetadata": {
      "byteLimit": 2048000,
      "rowLimit": 10000
     },
     "inputWidgets": {},
     "nuid": "6056ab6f-35af-479d-a909-34a85536fc5d",
     "showTitle": false,
     "tableResultSettingsMap": {},
     "title": ""
    }
   },
   "outputs": [],
   "source": [
    "# Calculate additional features\n",
    "data[\"price_range\"] = data[\"close\"] - data[\"open\"]\n",
    "data[\"price_volume_ratio\"] = data[\"close\"] / data[\"volume\"]\n",
    "data[\"price_volume_interaction\"] = data[\"close\"] * data[\"volume\"]\n",
    "data['true_range'] = np.maximum(data['high'] - data['low'],\n",
    "                            np.maximum(abs(data['high'] - data['close'].shift(1)),\n",
    "                                       abs(data['low'] - data['close'].shift(1))))"
   ]
  },
  {
   "cell_type": "code",
   "execution_count": 0,
   "metadata": {
    "application/vnd.databricks.v1+cell": {
     "cellMetadata": {
      "byteLimit": 2048000,
      "rowLimit": 10000
     },
     "inputWidgets": {},
     "nuid": "a3d85c08-71dc-4b9c-a3ed-09bbe4827c82",
     "showTitle": false,
     "tableResultSettingsMap": {},
     "title": ""
    }
   },
   "outputs": [],
   "source": [
    "# Calculate rolling features\n",
    "def rolling(group):\n",
    "    group[\"rolling_mean20\"] = group[\"close\"].rolling(window=20).mean()\n",
    "    group[\"rolling_mean5\"] = group[\"close\"].rolling(window=5).mean()\n",
    "\n",
    "    group[\"rolling_std20\"] = group[\"close\"].rolling(window=20).std()\n",
    "    group[\"rolling_std5\"] = group[\"close\"].rolling(window=5).std()\n",
    "\n",
    "    group[\"rolling_kurt20\"] = group[\"close\"].rolling(window=20).kurt()\n",
    "    group[\"rolling_kurt5\"] = group[\"close\"].rolling(window=5).kurt()\n",
    "\n",
    "    group[\"rolling_skew20\"] = group[\"close\"].rolling(window=20).skew()\n",
    "    group[\"rolling_skew5\"] = group[\"close\"].rolling(window=5).skew()\n",
    "\n",
    "    group[\"rolling_min20\"] = group[\"close\"].rolling(window=20).min()\n",
    "    group[\"rolling_min5\"] = group[\"close\"].rolling(window=5).min()\n",
    "\n",
    "    group[\"rolling_max20\"] = group[\"close\"].rolling(window=20).max()\n",
    "    group[\"rolling_max5\"] = group[\"close\"].rolling(window=5).max()\n",
    "\n",
    "    group[\"volume_mean20\"] = group[\"volume\"].rolling(window=20).mean()\n",
    "    group[\"volume_mean5\"] = group[\"volume\"].rolling(window=5).mean()\n",
    "\n",
    "    group[\"volume_std20\"] = group[\"volume\"].rolling(window=20).std()\n",
    "    group[\"volume_std5\"] = group[\"volume\"].rolling(window=5).std()\n",
    "\n",
    "    group[\"ewm_mean20\"] = group[\"close\"].ewm(span=20, adjust=False).mean()\n",
    "    group[\"ewm_mean5\"] = group[\"close\"].ewm(span=5, adjust=False).mean()\n",
    "\n",
    "    group[\"ewm_std20\"] = group[\"close\"].ewm(span=20, adjust=False).std()\n",
    "    group[\"ewm_std5\"] = group[\"close\"].ewm(span=5, adjust=False).std()\n",
    "\n",
    "    group[\"MACD\"] = group[\"close\"].ewm(span=10, adjust=False).mean() - group[\"close\"].ewm(span=30, adjust=False).mean()\n",
    "    group[\"signal_line\"] = group[\"MACD\"].ewm(span=9, adjust=False).mean()\n",
    "\n",
    "    group[\"average_true20\"] = group[\"true_range\"].rolling(window=20).mean()\n",
    "    group[\"average_true5\"] = group[\"true_range\"].rolling(window=5).mean()\n",
    "    \n",
    "    return group\n",
    "\n",
    "# Define RSI\n",
    "def RSI(group, window=15):\n",
    "    delta = group['close'].diff()\n",
    "    gain = delta.where(delta > 0, 0)\n",
    "    loss = -delta.where(delta < 0, 0)\n",
    "    \n",
    "    avg_gain = gain.rolling(window=window, min_periods=1).mean()\n",
    "    avg_loss = loss.rolling(window=window, min_periods=1).mean()\n",
    "    \n",
    "    rs = avg_gain / avg_loss\n",
    "\n",
    "    group['RSI'] = 100 - (100 / (1 + rs))\n",
    "    \n",
    "    return group\n",
    "\n",
    "# Define OBV\n",
    "def OBV(group):\n",
    "    group['OBV'] = 0\n",
    "\n",
    "    for i in range(1, len(group)):\n",
    "        if group['close'].iloc[i] > group['close'].iloc[i - 1]:\n",
    "            group['OBV'].iloc[i] = group['OBV'].iloc[i - 1] + group['volume'].iloc[i]\n",
    "        elif group['close'].iloc[i] < group['close'].iloc[i - 1]:\n",
    "            group['OBV'].iloc[i] = group['OBV'].iloc[i - 1] - group['volume'].iloc[i]\n",
    "        else:\n",
    "            group['OBV'].iloc[i] = group['OBV'].iloc[i - 1]\n",
    "    \n",
    "    return group\n",
    "\n",
    "# Define PVT\n",
    "def PVT(group):\n",
    "    group['PVT'] = 0.0\n",
    "    \n",
    "    for i in range(1, len(group)):\n",
    "        price_change = (group['close'].iloc[i] - group['close'].iloc[i - 1]) / group['close'].iloc[i - 1]\n",
    "        group['PVT'].iloc[i] = group['PVT'].iloc[i - 1] + (price_change * group['volume'].iloc[i])\n",
    "    \n",
    "    return group\n",
    "\n",
    "# Define DMI\n",
    "def DMI(group, period=15):\n",
    "    # Calculate +DM and -DM\n",
    "    group[\"pos_DM\"] = np.where((group['high'] - group['high'].shift(1)) > (group['low'].shift(1) - group['low']),\n",
    "                           np.maximum(group['high'] - group['high'].shift(1), 0), 0)\n",
    "    group[\"neg_DM\"] = np.where((group['low'].shift(1) - group['low']) > (group['high'] - group['high'].shift(1)),\n",
    "                           np.maximum(group['low'].shift(1) - group['low'], 0), 0)\n",
    "    \n",
    "    # Smooth +DM, -DM, and TR using the period\n",
    "    tr_smooth = group['true_range'].rolling(window=period).sum()\n",
    "    pos_DM_smooth = group[\"pos_DM\"].rolling(window=period).sum()\n",
    "    neg_DM_smooth = group[\"neg_DM\"].rolling(window=period).sum()\n",
    "    \n",
    "    # Calculate +DI and -DI\n",
    "    group['+DI'] = (pos_DM_smooth / tr_smooth) * 100\n",
    "    group['-DI'] = (neg_DM_smooth / tr_smooth) * 100\n",
    "    \n",
    "    group = group.drop(columns=[\"pos_DM\", \"neg_DM\"])\n",
    "\n",
    "    return group\n",
    "\n",
    "\n",
    "def momentum(group, period=15):\n",
    "    # Calculate momentum as the difference in price from `n` periods ago\n",
    "    group[\"momentum\"] = group['close'] - group['close'].shift(period)\n",
    "    \n",
    "    return group"
   ]
  },
  {
   "cell_type": "code",
   "execution_count": 0,
   "metadata": {
    "application/vnd.databricks.v1+cell": {
     "cellMetadata": {
      "byteLimit": 2048000,
      "rowLimit": 10000
     },
     "inputWidgets": {},
     "nuid": "61193a57-3b36-42c3-90ba-4522c62535b1",
     "showTitle": false,
     "tableResultSettingsMap": {},
     "title": ""
    }
   },
   "outputs": [],
   "source": [
    "# Create features based on functions\n",
    "data = data.groupby(\"group\").apply(rolling).reset_index(drop=True)\n",
    "data = data.groupby(\"group\").apply(RSI).reset_index(drop=True)\n",
    "data = data.groupby(\"group\").apply(OBV).reset_index(drop=True)\n",
    "data = data.groupby(\"group\").apply(PVT).reset_index(drop=True)\n",
    "data = data.groupby(\"group\").apply(DMI).reset_index(drop=True)\n",
    "data = data.groupby(\"group\").apply(momentum).reset_index(drop=True)"
   ]
  },
  {
   "cell_type": "code",
   "execution_count": 0,
   "metadata": {
    "application/vnd.databricks.v1+cell": {
     "cellMetadata": {
      "byteLimit": 2048000,
      "rowLimit": 10000
     },
     "inputWidgets": {},
     "nuid": "0549ba9f-d920-4ee7-a696-65d9f33219a4",
     "showTitle": false,
     "tableResultSettingsMap": {},
     "title": ""
    }
   },
   "outputs": [],
   "source": [
    "# Backfill NaNs\n",
    "data = data.fillna(method=\"bfill\")\n",
    "\n",
    "# After backfilling NaNS:\n",
    "data[\"returns\"] = data[\"close\"].pct_change()\n",
    "data[\"volatility\"] = data[\"returns\"].rolling(window=10).std()\n",
    "data[\"volatility_volume_corr\"] = data[\"volatility\"].corr(data[\"volume\"])\n",
    "\n",
    "# Backfill again\n",
    "data = data.fillna(method=\"bfill\")"
   ]
  },
  {
   "cell_type": "code",
   "execution_count": 0,
   "metadata": {
    "application/vnd.databricks.v1+cell": {
     "cellMetadata": {},
     "inputWidgets": {},
     "nuid": "2f88a9f2-b2d8-456f-b1b9-d6ea2cefd718",
     "showTitle": false,
     "tableResultSettingsMap": {},
     "title": ""
    }
   },
   "outputs": [],
   "source": [
    "# Define function for easily viewing performance metrics\n",
    "def metrics(true_y, pred_y, proba=None):\n",
    "  accuracy = accuracy_score(true_y, pred_y)\n",
    "  precision = precision_score(true_y, pred_y)\n",
    "  recall = recall_score(true_y, pred_y)\n",
    "  fbeta = fbeta_score(true_y, pred_y, beta=0.1)\n",
    "  roc_auc = roc_auc_score(true_y, proba)\n",
    "\n",
    "  # Print results\n",
    "  print(\"Accuracy:\", accuracy)\n",
    "  print(\"Precision:\", precision)\n",
    "  print(\"Recall:\", recall)\n",
    "  print(\"Fbeta Score:\", fbeta)\n",
    "  print(\"ROC-AUC Score:\", roc_auc)"
   ]
  },
  {
   "cell_type": "code",
   "execution_count": 0,
   "metadata": {
    "application/vnd.databricks.v1+cell": {
     "cellMetadata": {
      "byteLimit": 2048000,
      "rowLimit": 10000
     },
     "inputWidgets": {},
     "nuid": "fea8d414-a77e-4287-8ed8-bae620bb7f53",
     "showTitle": false,
     "tableResultSettingsMap": {},
     "title": ""
    }
   },
   "outputs": [],
   "source": [
    "# Define anomalies ('y' data)\n",
    "y_long = np.array(data[\"anomaly\"])\n",
    "y_short = np.array(data.groupby(\"group\")[\"anomaly\"].any().astype(int).tolist())\n",
    "\n",
    "# Prepare full data for training\n",
    "day = np.array(data[\"day\"]).reshape(-1, 1)\n",
    "numerical = data.drop(columns=[\"date\", \"open\", \"high\", \"low\", \"day\", \"group\", \"MAD\", \"Z\", \"anomaly\"])\n",
    "\n",
    "scaler = StandardScaler()\n",
    "OH = OneHotEncoder(sparse=False)\n",
    "\n",
    "numerical_data = scaler.fit_transform(numerical)\n",
    "categorical_data = OH.fit_transform(day)\n",
    "\n",
    "X = np.concatenate([numerical_data, categorical_data], axis=1)\n",
    "data_X = pd.DataFrame(X)\n",
    "features = X.shape[1]\n",
    "\n",
    "X_nn = X.reshape(periods, 60, features)"
   ]
  },
  {
   "cell_type": "code",
   "execution_count": 0,
   "metadata": {
    "application/vnd.databricks.v1+cell": {
     "cellMetadata": {
      "byteLimit": 2048000,
      "rowLimit": 10000
     },
     "inputWidgets": {},
     "nuid": "ffd9d40f-5898-4261-8649-b68152e34acd",
     "showTitle": false,
     "tableResultSettingsMap": {},
     "title": ""
    }
   },
   "outputs": [],
   "source": [
    "# Partition healthy and anomalous signals\n",
    "anomalous_groups = data.loc[data[\"anomaly\"] == 1, \"group\"].unique()\n",
    "data_healthy = data.loc[~data[\"group\"].isin(anomalous_groups)]  # 373 healthy groups\n",
    "\n",
    "# Prepare healthy data for training\n",
    "day = np.array(data_healthy[\"day\"]).reshape(-1, 1)\n",
    "numerical = data_healthy.drop(columns=[\"date\", \"open\", \"high\", \"low\", \"day\", \"group\", \"MAD\", \"Z\", \"anomaly\"])\n",
    "\n",
    "scaler = StandardScaler()\n",
    "OH = OneHotEncoder(sparse=False)\n",
    "\n",
    "numerical_healthy = scaler.fit_transform(numerical)\n",
    "categorical_healthy = OH.fit_transform(day)\n",
    "\n",
    "X_healthy = np.concatenate([numerical_healthy, categorical_healthy], axis=1)\n",
    "\n",
    "X_healthy = X_healthy.reshape(373, 60, 46)\n",
    "X_healthy_train, X_healthy_val = train_test_split(X_healthy, test_size=0.2, random_state=42)\n",
    "\n",
    "degraded_samples = X_nn[y_short == 1][:8]  # Select only the degraded samples from X\n",
    "\n",
    "X_test = np.concatenate([X_healthy_val, degraded_samples], axis=0)\n",
    "y_test = np.concatenate([np.zeros(len(X_healthy_val)), np.ones(len(degraded_samples))])"
   ]
  },
  {
   "cell_type": "code",
   "execution_count": 0,
   "metadata": {
    "application/vnd.databricks.v1+cell": {
     "cellMetadata": {
      "byteLimit": 2048000,
      "rowLimit": 10000
     },
     "inputWidgets": {},
     "nuid": "cf3655df-b543-4bac-a197-8b5285ba51ba",
     "showTitle": false,
     "tableResultSettingsMap": {},
     "title": ""
    }
   },
   "outputs": [],
   "source": [
    "# Obtain class weights to handle imbalance between healthy and degraded samples\n",
    "from sklearn.utils.class_weight import compute_class_weight\n",
    "\n",
    "classes = np.array([0, 1])\n",
    "class_weights_manual = compute_class_weight(class_weight='balanced', classes=classes, y=y_short)\n",
    "class_weights = {0: class_weights_manual[0], 1: class_weights_manual[1]}"
   ]
  },
  {
   "cell_type": "code",
   "execution_count": 0,
   "metadata": {
    "application/vnd.databricks.v1+cell": {
     "cellMetadata": {
      "byteLimit": 2048000,
      "rowLimit": 10000
     },
     "inputWidgets": {},
     "nuid": "dcc76729-5684-42cf-b6de-89fe3bf1c384",
     "showTitle": false,
     "tableResultSettingsMap": {},
     "title": ""
    }
   },
   "outputs": [
    {
     "output_type": "execute_result",
     "data": {
      "text/plain": [
       "{0: 0.5536193029490617, 1: 5.1625}"
      ]
     },
     "execution_count": 21,
     "metadata": {},
     "output_type": "execute_result"
    }
   ],
   "source": [
    "class_weights"
   ]
  },
  {
   "cell_type": "markdown",
   "metadata": {
    "application/vnd.databricks.v1+cell": {
     "cellMetadata": {},
     "inputWidgets": {},
     "nuid": "912177c7-750a-4e37-a3b9-5a8d787ee068",
     "showTitle": false,
     "tableResultSettingsMap": {},
     "title": ""
    }
   },
   "source": [
    "## LSTM"
   ]
  },
  {
   "cell_type": "code",
   "execution_count": 0,
   "metadata": {
    "application/vnd.databricks.v1+cell": {
     "cellMetadata": {
      "byteLimit": 2048000,
      "rowLimit": 10000
     },
     "inputWidgets": {},
     "nuid": "0c27a64b-4547-485b-822c-028dc2ee900c",
     "showTitle": false,
     "tableResultSettingsMap": {},
     "title": ""
    }
   },
   "outputs": [
    {
     "output_type": "stream",
     "name": "stdout",
     "output_type": "stream",
     "text": [
      "\r1/3 [=========>....................] - ETA: 0s\b\b\b\b\b\b\b\b\b\b\b\b\b\b\b\b\b\b\b\b\b\b\b\b\b\b\b\b\b\b\b\b\b\b\b\b\b\b\b\b\b\b\b\b\b\b\r3/3 [==============================] - 0s 4ms/step\n\r1/3 [=========>....................] - ETA: 0s\b\b\b\b\b\b\b\b\b\b\b\b\b\b\b\b\b\b\b\b\b\b\b\b\b\b\b\b\b\b\b\b\b\b\b\b\b\b\b\b\b\b\b\b\b\b\r3/3 [==============================] - 0s 8ms/step\n\r1/4 [======>.......................] - ETA: 0s\b\b\b\b\b\b\b\b\b\b\b\b\b\b\b\b\b\b\b\b\b\b\b\b\b\b\b\b\b\b\b\b\b\b\b\b\b\b\b\b\b\b\b\b\b\b\r4/4 [==============================] - 0s 5ms/step\n\r1/4 [======>.......................] - ETA: 0s\b\b\b\b\b\b\b\b\b\b\b\b\b\b\b\b\b\b\b\b\b\b\b\b\b\b\b\b\b\b\b\b\b\b\b\b\b\b\b\b\b\b\b\b\b\b\r4/4 [==============================] - 0s 955us/step\n"
     ]
    }
   ],
   "source": [
    "timesteps = 60\n",
    "features = 46\n",
    "latent_dim = 64\n",
    "output_size = 1\n",
    "\n",
    "# Encoder\n",
    "input_layer = Input(shape=(timesteps, features))\n",
    "encoded = LSTM(latent_dim, activation='tanh')(input_layer)\n",
    "\n",
    "# Decoder\n",
    "decoded = RepeatVector(timesteps)(encoded)\n",
    "decoded = LSTM(latent_dim, activation='tanh', return_sequences=True)(decoded)\n",
    "decoded = TimeDistributed(Dense(features))(decoded)\n",
    "\n",
    "# Define Autoencoder Model\n",
    "autoencoder = Model(inputs=input_layer, outputs=decoded)\n",
    "autoencoder.compile(optimizer=Adam(learning_rate=1e-4), loss='mse')\n",
    "\n",
    "# Train Autoencoder on `X_healthy_train`\n",
    "autoencoder.fit(X_healthy_train, X_healthy_train, epochs=50, verbose=0)\n",
    "\n",
    "# Extract Latent Representations\n",
    "encoder = Model(inputs=input_layer, outputs=encoded)\n",
    "\n",
    "# Latent representations for `X_healthy_val` for threshold setting\n",
    "latent_representations_val = encoder.predict(X_healthy_val)\n",
    "\n",
    "# Calculate Reconstruction Error Threshold\n",
    "# Get reconstruction error on `X_healthy_val`\n",
    "reconstructed_val = autoencoder.predict(X_healthy_val)\n",
    "reconstruction_errors_val = np.mean(np.square(X_healthy_val - reconstructed_val), axis=(1, 2))\n",
    "threshold = np.percentile(reconstruction_errors_val, 95)  # Example threshold\n",
    "\n",
    "# Prepare Latent Representations for Supervised Classification\n",
    "# Obtain latent representations of the `X_nn` dataset\n",
    "latent_representations_nn = encoder.predict(X_test)  \n",
    "y_nn = np.concatenate([np.zeros(len(X_healthy_val)), np.ones(len(degraded_samples))])  # Binary labels for healthy and degraded in `X_nn`\n",
    "\n",
    "# Add a Classification Layer\n",
    "classification_input = Input(shape=(latent_representations_nn.shape[1],))\n",
    "classifier = Dense(50, activation='tanh')(classification_input)\n",
    "classifier = Dense(1, activation='sigmoid')(classifier)\n",
    "\n",
    "# Define  Hybrid Model\n",
    "hybrid_model = Model(inputs=classification_input, outputs=classifier)\n",
    "hybrid_model.compile(optimizer=Adam(learning_rate=1e-4), loss='binary_crossentropy', metrics=['accuracy'])\n",
    "\n",
    "# Train the Classifier on Latent Representations from Training Data\n",
    "hybrid_model.fit(latent_representations_nn, y_nn, epochs=50, verbose=0)\n",
    "\n",
    "# Predict Anomalies on `X_nn` Using Hybrid Model\n",
    "predictions = hybrid_model.predict(latent_representations_nn)\n",
    "\n",
    "threshold = 0.5\n",
    "y_pred = (predictions >= threshold).reshape(-1).astype(float)"
   ]
  },
  {
   "cell_type": "code",
   "execution_count": 0,
   "metadata": {
    "application/vnd.databricks.v1+cell": {
     "cellMetadata": {
      "byteLimit": 2048000,
      "rowLimit": 10000
     },
     "inputWidgets": {},
     "nuid": "95c379e9-78e7-4d24-8028-26cf8dc47b05",
     "showTitle": false,
     "tableResultSettingsMap": {},
     "title": ""
    }
   },
   "outputs": [
    {
     "output_type": "stream",
     "name": "stdout",
     "output_type": "stream",
     "text": [
      "Accuracy: 0.6347826086956522\nPrecision: 0.375\nRecall: 0.075\nFbeta Score: 0.3607142857142857\nROC-AUC Score: 0.5010000000000001\n"
     ]
    }
   ],
   "source": [
    "metrics(y_test, y_pred, predictions)"
   ]
  },
  {
   "cell_type": "code",
   "execution_count": 0,
   "metadata": {
    "application/vnd.databricks.v1+cell": {
     "cellMetadata": {
      "byteLimit": 2048000,
      "rowLimit": 10000
     },
     "inputWidgets": {},
     "nuid": "332e7401-da59-4c44-ad9d-8159c27147f2",
     "showTitle": false,
     "tableResultSettingsMap": {},
     "title": ""
    }
   },
   "outputs": [],
   "source": [
    "# Calculate the ROC curve\n",
    "fpr, tpr, thresholds = roc_curve(y_test, predictions)\n",
    "\n",
    "# Calculate the AUC\n",
    "roc_auc = auc(fpr, tpr)\n",
    "\n",
    "# Plot the ROC curve\n",
    "plt.figure(figsize=(8, 6))\n",
    "plt.plot(fpr, tpr, color='blue', lw=2, label=f'ROC Curve (AUC = 0.68)')\n",
    "plt.plot([0, 1], [0, 1], color='gray', linestyle='--', label='Random Guess')\n",
    "plt.xlabel('False Positive Rate (FPR)')\n",
    "plt.ylabel('True Positive Rate (TPR)')\n",
    "plt.title('ROC Curve: Baseline GRU Classifier')\n",
    "plt.legend(loc='lower right')\n",
    "plt.grid()\n",
    "# plt.show()\n",
    "plt.savefig(\"GRU_ROC.png\")\n",
    "\n",
    "youden_index = tpr - fpr\n",
    "optimal_idx = youden_index.argmax()\n",
    "optimal_threshold = thresholds[optimal_idx]\n",
    "\n",
    "print(f\"Optimal Threshold (Youden's Index): {optimal_threshold}\")\n",
    "\n",
    "# Alternatively, minimize the distance to (0,1)\n",
    "distances = ((fpr**2) + ((1 - tpr)**2))**0.5\n",
    "optimal_idx_dist = distances.argmin()\n",
    "optimal_threshold_dist = thresholds[optimal_idx_dist]\n",
    "\n",
    "print(f\"Optimal Threshold (Min Distance): {optimal_threshold_dist}\")"
   ]
  },
  {
   "cell_type": "markdown",
   "metadata": {
    "application/vnd.databricks.v1+cell": {
     "cellMetadata": {},
     "inputWidgets": {},
     "nuid": "62e19dc7-61b4-47cd-bf69-f4047dd49641",
     "showTitle": false,
     "tableResultSettingsMap": {},
     "title": ""
    }
   },
   "source": [
    "### LSTM Using Reconstruction Errors"
   ]
  },
  {
   "cell_type": "code",
   "execution_count": 0,
   "metadata": {
    "application/vnd.databricks.v1+cell": {
     "cellMetadata": {
      "byteLimit": 2048000,
      "rowLimit": 10000
     },
     "inputWidgets": {},
     "nuid": "406d1230-1506-44cb-836d-456abae34d1a",
     "showTitle": false,
     "tableResultSettingsMap": {},
     "title": ""
    }
   },
   "outputs": [],
   "source": [
    "import tensorflow as tf\n",
    "from tensorflow.keras.models import Model\n",
    "from tensorflow.keras.layers import LSTM, RepeatVector, TimeDistributed, Dense, Input\n",
    "from tensorflow.keras.optimizers import Adam\n",
    "\n",
    "timesteps = 60 \n",
    "features = 46\n",
    "latent_dim = 64\n",
    "\n",
    "# Encoder\n",
    "input_layer = Input(shape=(timesteps, features))\n",
    "encoded = LSTM(latent_dim, activation='tanh')(input_layer)\n",
    "\n",
    "# Decoder\n",
    "decoded = RepeatVector(timesteps)(encoded)\n",
    "decoded = LSTM(latent_dim, activation='tanh', return_sequences=True)(decoded)\n",
    "decoded = TimeDistributed(Dense(features))(decoded)\n",
    "\n",
    "# Define Autoencoder Model\n",
    "autoencoder = Model(inputs=input_layer, outputs=decoded)\n",
    "autoencoder.compile(optimizer=Adam(learning_rate=1e-4, clipnorm=1.0), loss='mse')\n",
    "\n",
    "# Train Autoencoder on healthy data (0s only)\n",
    "autoencoder.fit(X_healthy_train, X_healthy_train, epochs=50, verbose=0)\n",
    "\n",
    "# Calculate Reconstruction Errors for Healthy Data\n",
    "reconstructed_healthy = autoencoder.predict(X_healthy_val)\n",
    "reconstruction_errors_healthy = np.mean(np.square(X_healthy_val - reconstructed_healthy), axis=(1, 2))\n",
    "\n",
    "# Set Threshold for Anomaly Detection\n",
    "threshold = np.percentile(reconstruction_errors_healthy, 90)  # 95th percentile threshold for healthy data\n",
    "\n",
    "# Calculate Reconstruction Errors for New Data and Detect Anomalies\n",
    "reconstructed_all = autoencoder.predict(X_test)  # Predict on new data\n",
    "reconstruction_errors_all = np.mean(np.square(X_test - reconstructed_all), axis=(1, 2))  # MSE for each sample\n",
    "\n",
    "# Classify as anomaly if reconstruction error is above the threshold\n",
    "anomalies = (reconstruction_errors_all > threshold).astype(int)"
   ]
  },
  {
   "cell_type": "code",
   "execution_count": 0,
   "metadata": {
    "application/vnd.databricks.v1+cell": {
     "cellMetadata": {
      "byteLimit": 2048000,
      "rowLimit": 10000
     },
     "inputWidgets": {},
     "nuid": "e37dfc3f-2164-4d06-867a-d8f8f8f37b55",
     "showTitle": false,
     "tableResultSettingsMap": {},
     "title": ""
    }
   },
   "outputs": [],
   "source": [
    "metrics(y_test, anomalies, reconstruction_errors_all)"
   ]
  },
  {
   "cell_type": "markdown",
   "metadata": {
    "application/vnd.databricks.v1+cell": {
     "cellMetadata": {},
     "inputWidgets": {},
     "nuid": "619a946b-12a5-48df-8990-75818cecf6e8",
     "showTitle": false,
     "tableResultSettingsMap": {},
     "title": ""
    }
   },
   "source": [
    "## GRU"
   ]
  },
  {
   "cell_type": "code",
   "execution_count": 0,
   "metadata": {
    "application/vnd.databricks.v1+cell": {
     "cellMetadata": {
      "byteLimit": 2048000,
      "rowLimit": 10000
     },
     "inputWidgets": {},
     "nuid": "fda67c6b-54de-4e51-97a0-3fc16d5b5cc0",
     "showTitle": false,
     "tableResultSettingsMap": {},
     "title": ""
    }
   },
   "outputs": [],
   "source": [
    "import numpy as np\n",
    "import tensorflow as tf\n",
    "from tensorflow.keras.models import Model\n",
    "from tensorflow.keras.layers import GRU, RepeatVector, TimeDistributed, Dense, Input\n",
    "from tensorflow.keras.optimizers import Adam\n",
    "\n",
    "timesteps = 60\n",
    "features = 46\n",
    "latent_dim = 64\n",
    "output_size = 1\n",
    "\n",
    "# Encoder\n",
    "input_layer = Input(shape=(timesteps, features))\n",
    "encoded = GRU(latent_dim, activation='tanh')(input_layer) \n",
    "\n",
    "# Decoder\n",
    "decoded = RepeatVector(timesteps)(encoded)\n",
    "decoded = GRU(latent_dim, activation='tanh', return_sequences=True)(decoded) \n",
    "decoded = TimeDistributed(Dense(features))(decoded)\n",
    "\n",
    "# Define Autoencoder Model\n",
    "autoencoder = Model(inputs=input_layer, outputs=decoded)\n",
    "autoencoder.compile(optimizer=Adam(learning_rate=1e-4), loss='mse')\n",
    "\n",
    "# Train Autoencoder on `X_healthy_train`\n",
    "autoencoder.fit(X_healthy_train, X_healthy_train, epochs=50, verbose=0)\n",
    "\n",
    "# Extract Latent Representations \n",
    "encoder = Model(inputs=input_layer, outputs=encoded)\n",
    "\n",
    "# Latent representations for `X_healthy_val` for threshold setting\n",
    "latent_representations_val = encoder.predict(X_healthy_val)\n",
    "\n",
    "# Calculate Reconstruction Error Threshold \n",
    "# Get reconstruction error on `X_healthy_val`\n",
    "reconstructed_val = autoencoder.predict(X_healthy_val)\n",
    "reconstruction_errors_val = np.mean(np.square(X_healthy_val - reconstructed_val), axis=(1, 2))\n",
    "threshold = np.percentile(reconstruction_errors_val, 95)  # Example threshold\n",
    "\n",
    "# Prepare Latent Representations \n",
    "# Obtain latent representations of the `X_nn` dataset\n",
    "latent_representations_nn = encoder.predict(X_test)  # Features for the classifier\n",
    "y_nn = np.concatenate([np.zeros(len(X_healthy_val)), np.ones(len(degraded_samples))])  # Binary labels for healthy and degraded in `X_nn`\n",
    "\n",
    "# Add a Classification Layer\n",
    "classification_input = Input(shape=(latent_representations_nn.shape[1],))\n",
    "classifier = Dense(50, activation='tanh')(classification_input)\n",
    "classifier = Dense(1, activation='sigmoid')(classifier)\n",
    "\n",
    "# Define the Hybrid Model\n",
    "hybrid_model = Model(inputs=classification_input, outputs=classifier)\n",
    "hybrid_model.compile(optimizer=Adam(learning_rate=1e-4), loss='binary_crossentropy', metrics=['accuracy'])\n",
    "\n",
    "# Train the Classifier on Latent Representations from Training Data\n",
    "# Use `latent_representations_val` and `y_nn` for training the classifier\n",
    "hybrid_model.fit(latent_representations_nn, y_nn, epochs=50, verbose=0)\n",
    "\n",
    "# Predict Anomalies on `X_nn` Using Hybrid Model\n",
    "predictions = hybrid_model.predict(latent_representations_nn)\n",
    "\n",
    "threshold = 0.5\n",
    "y_pred = (predictions >= threshold).reshape(-1).astype(float)\n"
   ]
  },
  {
   "cell_type": "code",
   "execution_count": 0,
   "metadata": {
    "application/vnd.databricks.v1+cell": {
     "cellMetadata": {
      "byteLimit": 2048000,
      "rowLimit": 10000
     },
     "inputWidgets": {},
     "nuid": "3c8ee0f4-8fd4-41f8-baf1-2c81aaa16637",
     "showTitle": false,
     "tableResultSettingsMap": {},
     "title": ""
    }
   },
   "outputs": [],
   "source": [
    "metrics(y_test, y_pred, predictions)"
   ]
  },
  {
   "cell_type": "markdown",
   "metadata": {
    "application/vnd.databricks.v1+cell": {
     "cellMetadata": {},
     "inputWidgets": {},
     "nuid": "7ca86c8b-9f84-4fc9-919e-16e11c4c3d6c",
     "showTitle": false,
     "tableResultSettingsMap": {},
     "title": ""
    }
   },
   "source": [
    "### Transformer"
   ]
  },
  {
   "cell_type": "code",
   "execution_count": 0,
   "metadata": {
    "application/vnd.databricks.v1+cell": {
     "cellMetadata": {
      "byteLimit": 2048000,
      "rowLimit": 10000
     },
     "inputWidgets": {},
     "nuid": "19adba3c-6d02-48f6-94f3-f2e404d8d9bc",
     "showTitle": false,
     "tableResultSettingsMap": {},
     "title": ""
    }
   },
   "outputs": [],
   "source": [
    "from tensorflow.keras.layers import LayerNormalization, Dropout, MultiHeadAttention, Add, GlobalAveragePooling1D\n",
    "\n",
    "timesteps = 60\n",
    "features = 46\n",
    "latent_dim = 64\n",
    "output_size = 1\n",
    "heads = 8\n",
    "dropout = 0.1\n",
    "\n",
    "# Define Transformer Encoder Layer\n",
    "def transformer_encoder(inputs, num_heads=heads, latent_dim=latent_dim, dropout_rate=dropout):\n",
    "    # Ensure that the feature dimensions stay consistent\n",
    "    attn_output = MultiHeadAttention(num_heads=num_heads, key_dim=features)(inputs, inputs)\n",
    "    attn_output = Dropout(dropout_rate)(attn_output)\n",
    "    out1 = Add()([inputs, attn_output])\n",
    "    out1 = LayerNormalization(epsilon=1e-6)(out1)\n",
    "    \n",
    "    # Feed-forward layer with feature dimension preserved\n",
    "    ffn_output = Dense(features, activation=\"relu\")(out1)\n",
    "    ffn_output = Dense(features)(ffn_output)  # Ensure output dimension matches `features`\n",
    "    ffn_output = Dropout(dropout_rate)(ffn_output)\n",
    "    out2 = Add()([out1, ffn_output])\n",
    "    return LayerNormalization(epsilon=1e-6)(out2)\n",
    "\n",
    "# Define Transformer Decoder Layer\n",
    "def transformer_decoder(encoded_inputs, num_heads=heads, latent_dim=latent_dim, dropout_rate=dropout):\n",
    "    # Ensure that the feature dimensions stay consistent\n",
    "    attn_output = MultiHeadAttention(num_heads=num_heads, key_dim=features)(encoded_inputs, encoded_inputs)\n",
    "    attn_output = Dropout(dropout_rate)(attn_output)\n",
    "    out1 = Add()([encoded_inputs, attn_output])\n",
    "    out1 = LayerNormalization(epsilon=1e-6)(out1)\n",
    "    \n",
    "    # Feed-forward layer with feature dimension preserved\n",
    "    ffn_output = Dense(features, activation=\"relu\")(out1)\n",
    "    ffn_output = Dense(features)(ffn_output)  # Ensure output dimension matches `features`\n",
    "    ffn_output = Dropout(dropout_rate)(ffn_output)\n",
    "    out2 = Add()([out1, ffn_output])\n",
    "    return LayerNormalization(epsilon=1e-6)(out2)\n",
    "\n",
    "# Encoder\n",
    "input_layer = Input(shape=(timesteps, features))\n",
    "encoder_output = transformer_encoder(input_layer, num_heads=heads, latent_dim=latent_dim)\n",
    "\n",
    "# Pooling to reduce to latent dimension, making it compatible with RepeatVector\n",
    "encoded = GlobalAveragePooling1D()(encoder_output)  # Shape: (batch_size, features)\n",
    "\n",
    "# Decoder\n",
    "decoded = RepeatVector(timesteps)(encoded)\n",
    "decoded = transformer_decoder(decoded, num_heads=heads, latent_dim=latent_dim)\n",
    "decoded_output = Dense(features)(decoded)   # Final output layer for reconstruction\n",
    "\n",
    "# Define Autoencoder Model\n",
    "autoencoder = Model(inputs=input_layer, outputs=decoded_output)\n",
    "autoencoder.compile(optimizer=Adam(learning_rate=1e-4), loss='mse')\n",
    "\n",
    "# Train Autoencoder on Healthy Data\n",
    "autoencoder.fit(X_healthy_train, X_healthy_train, epochs=50, verbose=0)\n",
    "\n",
    "# Extract Latent Representations\n",
    "# Define encoder model to produce latent representations for classification\n",
    "encoder_model = Model(inputs=input_layer, outputs=encoded)\n",
    "latent_representations_val = encoder_model.predict(X_healthy_val)\n",
    "\n",
    "# Set Threshold for Anomaly Detection\n",
    "# Calculate reconstruction errors on `X_healthy_val`\n",
    "reconstructed_val = autoencoder.predict(X_healthy_val)\n",
    "reconstruction_errors_val = np.mean(np.square(X_healthy_val - reconstructed_val), axis=(1, 2))\n",
    "threshold = np.percentile(reconstruction_errors_val, 95)\n",
    "\n",
    "# Prepare Latent Representations\n",
    "# Obtain latent representations for `X_nn`\n",
    "latent_representations_nn = encoder_model.predict(X_test)  # Features for the classifier\n",
    "y_nn = np.concatenate([np.zeros(len(X_healthy_val)), np.ones(len(degraded_samples))])  # Binary labels for `X_nn`\n",
    "\n",
    "# Add a Classification Layer \n",
    "classification_input = Input(shape=(latent_representations_nn.shape[1],))\n",
    "classifier = Dense(50, activation='tanh')(classification_input)\n",
    "classifier = Dense(1, activation='sigmoid')(classifier)\n",
    "\n",
    "# Define the Hybrid Model\n",
    "hybrid_model = Model(inputs=classification_input, outputs=classifier)\n",
    "hybrid_model.compile(optimizer=Adam(learning_rate=1e-4), loss='binary_crossentropy', metrics=['accuracy'])\n",
    "\n",
    "# Train Classifier on Latent Representations and Labels\n",
    "hybrid_model.fit(latent_representations_nn, y_nn, epochs=50, verbose=0)\n",
    "\n",
    "# Predict Anomalies on `X_nn` Using Hybrid Model\n",
    "predictions = hybrid_model.predict(latent_representations_nn)"
   ]
  },
  {
   "cell_type": "code",
   "execution_count": 0,
   "metadata": {
    "application/vnd.databricks.v1+cell": {
     "cellMetadata": {
      "byteLimit": 2048000,
      "rowLimit": 10000
     },
     "inputWidgets": {},
     "nuid": "40f2538d-a39e-4b16-b71a-08aba92a8a45",
     "showTitle": false,
     "tableResultSettingsMap": {},
     "title": ""
    }
   },
   "outputs": [],
   "source": [
    "threshold = 0.5\n",
    "y_pred = (predictions >= threshold).reshape(-1).astype(float)\n",
    "\n",
    "metrics(y_test, y_pred, predictions)"
   ]
  },
  {
   "cell_type": "markdown",
   "metadata": {
    "application/vnd.databricks.v1+cell": {
     "cellMetadata": {},
     "inputWidgets": {},
     "nuid": "3300061a-9674-4916-a4a8-fc8821ba21db",
     "showTitle": false,
     "tableResultSettingsMap": {},
     "title": ""
    }
   },
   "source": [
    "## Better LSTM Using Class Weights and Tuned Threshold"
   ]
  },
  {
   "cell_type": "code",
   "execution_count": 0,
   "metadata": {
    "application/vnd.databricks.v1+cell": {
     "cellMetadata": {
      "byteLimit": 2048000,
      "rowLimit": 10000
     },
     "inputWidgets": {},
     "nuid": "cd8ab196-caf5-42fe-b65c-cdfbf8d79cdf",
     "showTitle": false,
     "tableResultSettingsMap": {},
     "title": ""
    }
   },
   "outputs": [
    {
     "output_type": "execute_result",
     "data": {
      "text/plain": [
       "array([0.5536193, 5.1625   ])"
      ]
     },
     "execution_count": 42,
     "metadata": {},
     "output_type": "execute_result"
    }
   ],
   "source": [
    "class_weights"
   ]
  },
  {
   "cell_type": "code",
   "execution_count": 0,
   "metadata": {
    "application/vnd.databricks.v1+cell": {
     "cellMetadata": {
      "byteLimit": 2048000,
      "rowLimit": 10000
     },
     "inputWidgets": {},
     "nuid": "bd273347-3987-4610-9fce-3638bf4e9396",
     "showTitle": false,
     "tableResultSettingsMap": {},
     "title": ""
    }
   },
   "outputs": [
    {
     "output_type": "stream",
     "name": "stdout",
     "output_type": "stream",
     "text": [
      "\r1/3 [=========>....................] - ETA: 0s\b\b\b\b\b\b\b\b\b\b\b\b\b\b\b\b\b\b\b\b\b\b\b\b\b\b\b\b\b\b\b\b\b\b\b\b\b\b\b\b\b\b\b\b\b\b\r3/3 [==============================] - 0s 19ms/step\n\r1/3 [=========>....................] - ETA: 1s\b\b\b\b\b\b\b\b\b\b\b\b\b\b\b\b\b\b\b\b\b\b\b\b\b\b\b\b\b\b\b\b\b\b\b\b\b\b\b\b\b\b\b\b\b\b\r2/3 [===================>..........] - ETA: 0s\b\b\b\b\b\b\b\b\b\b\b\b\b\b\b\b\b\b\b\b\b\b\b\b\b\b\b\b\b\b\b\b\b\b\b\b\b\b\b\b\b\b\b\b\b\b\r3/3 [==============================] - ETA: 0s\b\b\b\b\b\b\b\b\b\b\b\b\b\b\b\b\b\b\b\b\b\b\b\b\b\b\b\b\b\b\b\b\b\b\b\b\b\b\b\b\b\b\b\b\b\b\r3/3 [==============================] - 1s 63ms/step\n\r1/3 [=========>....................] - ETA: 0s\b\b\b\b\b\b\b\b\b\b\b\b\b\b\b\b\b\b\b\b\b\b\b\b\b\b\b\b\b\b\b\b\b\b\b\b\b\b\b\b\b\b\b\b\b\b\r3/3 [==============================] - 0s 20ms/step\n\r1/3 [=========>....................] - ETA: 0s\b\b\b\b\b\b\b\b\b\b\b\b\b\b\b\b\b\b\b\b\b\b\b\b\b\b\b\b\b\b\b\b\b\b\b\b\b\b\b\b\b\b\b\b\b\b\r3/3 [==============================] - 0s 1ms/step\nAccuracy: 0.9518072289156626\nPrecision: 0.8333333333333334\nRecall: 0.625\nFbeta Score: 0.8305921052631579\nROC-AUC Score: 0.9916666666666667\n"
     ]
    }
   ],
   "source": [
    "timesteps = 60\n",
    "features = 46\n",
    "latent_dim = 64\n",
    "output_size = 1\n",
    "\n",
    "# Encoder\n",
    "input_layer = Input(shape=(timesteps, features))\n",
    "encoded = LSTM(512, activation='tanh', return_sequences=True, dropout=0.2)(input_layer)  # First LSTM layer\n",
    "encoded = LSTM(256, activation='tanh', return_sequences=True, dropout=0.2)(input_layer)\n",
    "encoded = LSTM(128, activation='relu', return_sequences=False, dropout=0.2)(encoded)      # Second LSTM layer (last in encoder)\n",
    "\n",
    "# Decoder\n",
    "decoded = RepeatVector(timesteps)(encoded)\n",
    "decoded = LSTM(128, activation='tanh', return_sequences=True)(decoded)\n",
    "decoded = LSTM(256, activation='tanh', return_sequences=True)(decoded)       # First LSTM layer in decoder\n",
    "decoded = LSTM(512, activation='tanh', return_sequences=True)(decoded)      # Second LSTM layer in decoder\n",
    "decoded = TimeDistributed(Dense(features))(decoded)                         # Final output layer\n",
    "\n",
    "# Define Autoencoder Model\n",
    "autoencoder = Model(inputs=input_layer, outputs=decoded)\n",
    "autoencoder.compile(optimizer=Adam(learning_rate=1e-4), loss='mse')\n",
    "\n",
    "# Train Autoencoder on `X_healthy_train`\n",
    "autoencoder.fit(X_healthy_train, X_healthy_train, epochs=75, verbose=0)\n",
    "\n",
    "# Extract Latent Representations \n",
    "encoder = Model(inputs=input_layer, outputs=encoded)\n",
    "\n",
    "# Latent representations for `X_healthy_val` for threshold setting\n",
    "latent_representations_val = encoder.predict(X_healthy_val)\n",
    "\n",
    "# Calculate Reconstruction Error Threshold \n",
    "# Get reconstruction error on `X_healthy_val`\n",
    "reconstructed_val = autoencoder.predict(X_healthy_val)\n",
    "reconstruction_errors_val = np.mean(np.square(X_healthy_val - reconstructed_val), axis=(1, 2))\n",
    "threshold = np.percentile(reconstruction_errors_val, 95)  # Example threshold\n",
    "\n",
    "# Prepare Latent Representations\n",
    "# Obtain latent representations of the `X_nn` dataset\n",
    "latent_representations_nn = encoder.predict(X_test)  # Features for the classifier\n",
    "y_nn = np.concatenate([np.zeros(len(X_healthy_val)), np.ones(len(degraded_samples))])  # Binary labels for healthy and degraded in `X_nn`\n",
    "\n",
    "# Add a Classification Layer\n",
    "classification_input = Input(shape=(latent_representations_nn.shape[1],))\n",
    "classifier = Dense(100, activation='relu')(classification_input)\n",
    "classifier = Dense(25, activation='tanh')(classifier)\n",
    "classifier = Dense(1, activation='sigmoid')(classifier)\n",
    "\n",
    "# Define the Hybrid Model\n",
    "hybrid_model = Model(inputs=classification_input, outputs=classifier)\n",
    "hybrid_model.compile(optimizer=Adam(learning_rate=1e-4), loss='binary_crossentropy', metrics=['accuracy'])\n",
    "\n",
    "# Train the Classifier on Latent Representations\n",
    "# Use `latent_representations_val` and `y_nn` for training the classifier\n",
    "hybrid_model.fit(latent_representations_nn, y_nn, class_weight=class_weights, epochs=75, batch_size=10, verbose=0)\n",
    "\n",
    "# Step 6: Predict Anomalies on `X_nn` Using Hybrid Model\n",
    "predictions = hybrid_model.predict(latent_representations_nn)"
   ]
  },
  {
   "cell_type": "code",
   "execution_count": 0,
   "metadata": {
    "application/vnd.databricks.v1+cell": {
     "cellMetadata": {
      "byteLimit": 2048000,
      "rowLimit": 10000
     },
     "inputWidgets": {},
     "nuid": "b98bc7bd-5a81-4f2a-85a0-984302153d56",
     "showTitle": false,
     "tableResultSettingsMap": {},
     "title": ""
    }
   },
   "outputs": [
    {
     "output_type": "stream",
     "name": "stdout",
     "output_type": "stream",
     "text": [
      "Accuracy: 0.963855421686747\nPrecision: 1.0\nRecall: 0.625\nFbeta Score: 0.9940944881889763\nROC-AUC Score: 0.9916666666666667\n"
     ]
    }
   ],
   "source": [
    "threshold = 0.879\n",
    "y_pred = (predictions >= threshold).reshape(-1).astype(float)\n",
    "\n",
    "metrics(y_test, y_pred, predictions)"
   ]
  },
  {
   "cell_type": "code",
   "execution_count": 0,
   "metadata": {
    "application/vnd.databricks.v1+cell": {
     "cellMetadata": {
      "byteLimit": 2048000,
      "rowLimit": 10000
     },
     "inputWidgets": {},
     "nuid": "f1043b18-12be-45f4-ad8e-ce137eb731e2",
     "showTitle": false,
     "tableResultSettingsMap": {},
     "title": ""
    }
   },
   "outputs": [],
   "source": [
    "conf = confusion_matrix(y_test, y_pred)"
   ]
  },
  {
   "cell_type": "code",
   "execution_count": 0,
   "metadata": {
    "application/vnd.databricks.v1+cell": {
     "cellMetadata": {
      "byteLimit": 2048000,
      "rowLimit": 10000
     },
     "inputWidgets": {},
     "nuid": "f2660a65-1e00-40a5-b685-75f1d7eb0e47",
     "showTitle": false,
     "tableResultSettingsMap": {},
     "title": ""
    }
   },
   "outputs": [
    {
     "output_type": "execute_result",
     "data": {
      "text/plain": [
       "array([[75,  0],\n",
       "       [ 3,  5]])"
      ]
     },
     "execution_count": 84,
     "metadata": {},
     "output_type": "execute_result"
    }
   ],
   "source": [
    "conf"
   ]
  },
  {
   "cell_type": "code",
   "execution_count": 0,
   "metadata": {
    "application/vnd.databricks.v1+cell": {
     "cellMetadata": {
      "byteLimit": 2048000,
      "rowLimit": 10000
     },
     "inputWidgets": {},
     "nuid": "fb59a519-8ca0-4b70-a493-eb8f51159600",
     "showTitle": false,
     "tableResultSettingsMap": {},
     "title": ""
    }
   },
   "outputs": [
    {
     "output_type": "display_data",
     "data": {
      "image/png": "[encoded data removed]",
      "text/plain": [
       "<Figure size 800x600 with 1 Axes>"
      ]
     },
     "metadata": {},
     "output_type": "display_data"
    }
   ],
   "source": [
    "# Calculate the ROC curve\n",
    "fpr, tpr, thresholds = roc_curve(y_test, predictions)\n",
    "\n",
    "# Calculate the AUC\n",
    "roc_auc = auc(fpr, tpr)\n",
    "\n",
    "# Plot the ROC curve\n",
    "plt.figure(figsize=(8, 6))\n",
    "plt.plot(fpr, tpr, color='blue', lw=2, label=f'ROC Curve (AUC = {roc_auc:.2f})')\n",
    "plt.plot([0, 1], [0, 1], color='gray', linestyle='--')\n",
    "plt.xlabel('False Positive Rate')\n",
    "plt.ylabel('True Positive Rate')\n",
    "plt.title('ROC-AUC Curve')\n",
    "plt.legend(loc='lower right')\n",
    "plt.grid()\n",
    "# plt.show()\n",
    "plt.savefig(\"ROC-AUC.png\")"
   ]
  },
  {
   "cell_type": "code",
   "execution_count": 0,
   "metadata": {
    "application/vnd.databricks.v1+cell": {
     "cellMetadata": {
      "byteLimit": 2048000,
      "rowLimit": 10000
     },
     "inputWidgets": {},
     "nuid": "72672e25-c3c0-4703-9556-a2a3cc76cc77",
     "showTitle": false,
     "tableResultSettingsMap": {},
     "title": ""
    }
   },
   "outputs": [
    {
     "output_type": "stream",
     "name": "stdout",
     "output_type": "stream",
     "text": [
      "Optimal Beta: 0.1\nBest F_beta Score: 0.9901960764898117\n"
     ]
    }
   ],
   "source": [
    "from sklearn.metrics import precision_recall_curve\n",
    "precision, recall, thresholds = precision_recall_curve(y_test, predictions)\n",
    "\n",
    "# Range of Beta Values to Tune\n",
    "beta_values = np.linspace(0.1, 2, 20)  # Try values from 0.1 to 2\n",
    "optimal_beta = None\n",
    "best_fbeta_score = -np.inf\n",
    "fbeta_scores = []\n",
    "\n",
    "for beta in beta_values:\n",
    "    # Calculate F_beta score for the range of thresholds\n",
    "    f_beta_scores = (1 + beta**2) * (precision * recall) / ((beta**2 * precision) + recall + 1e-9)\n",
    "    max_fbeta = np.nanmax(f_beta_scores)  # Handle NaN cases\n",
    "    fbeta_scores.append(max_fbeta)\n",
    "    if max_fbeta > best_fbeta_score:\n",
    "        best_fbeta_score = max_fbeta\n",
    "        optimal_beta = beta\n",
    "\n",
    "print(f\"Optimal Beta: {optimal_beta}\")\n",
    "print(f\"Best F_beta Score: {best_fbeta_score}\")"
   ]
  },
  {
   "cell_type": "code",
   "execution_count": 0,
   "metadata": {
    "application/vnd.databricks.v1+cell": {
     "cellMetadata": {
      "byteLimit": 2048000,
      "rowLimit": 10000
     },
     "inputWidgets": {},
     "nuid": "9334419d-2d65-4fe6-a9c5-35d1e1cfbd6b",
     "showTitle": false,
     "tableResultSettingsMap": {},
     "title": ""
    }
   },
   "outputs": [
    {
     "output_type": "display_data",
     "data": {
      "image/png": "[encoded data removed]",
      "text/plain": [
       "<Figure size 800x600 with 1 Axes>"
      ]
     },
     "metadata": {},
     "output_type": "display_data"
    }
   ],
   "source": [
    "plt.figure(figsize=(8, 6))\n",
    "plt.plot(beta_values, fbeta_scores, color='black') \n",
    "plt.scatter(beta_values, fbeta_scores, color='blue')  \n",
    "\n",
    "plt.xlabel(r'$\\beta$', fontsize=12)\n",
    "plt.ylabel(r'$F_\\beta$ Score', fontsize=12)\n",
    "\n",
    "plt.title(r'$F_\\beta$ Tuning', fontsize=14)\n",
    "\n",
    "plt.xticks(np.linspace(0.1, 2, 20))\n",
    "\n",
    "plt.grid()\n",
    "# plt.show()\n",
    "plt.savefig(\"fbeta.png\")"
   ]
  },
  {
   "cell_type": "code",
   "execution_count": 0,
   "metadata": {
    "application/vnd.databricks.v1+cell": {
     "cellMetadata": {
      "byteLimit": 2048000,
      "rowLimit": 10000
     },
     "inputWidgets": {},
     "nuid": "eeafcc37-a66d-4cdb-8a89-826e01f15750",
     "showTitle": false,
     "tableResultSettingsMap": {},
     "title": ""
    }
   },
   "outputs": [
    {
     "output_type": "stream",
     "name": "stdout",
     "output_type": "stream",
     "text": [
      "Optimal Threshold: 0.8794048428535461\nPrecision at Optimal Threshold: 1.0\nRecall at Optimal Threshold: 0.625\nF_beta Score at Optimal Threshold: 0.9940944881889763\n"
     ]
    }
   ],
   "source": [
    "precision, recall, thresholds = precision_recall_curve(y_test, predictions)\n",
    "\n",
    "beta = 0.1\n",
    "\n",
    "# Compute F_beta score for each threshold\n",
    "f_beta_scores = (1 + beta**2) * (precision * recall) / ((beta**2 * precision) + recall)\n",
    "\n",
    "# Find the optimal threshold\n",
    "optimal_idx = f_beta_scores.argmax()\n",
    "optimal_threshold = thresholds[optimal_idx]\n",
    "\n",
    "print(f\"Optimal Threshold: {optimal_threshold}\")\n",
    "print(f\"Precision at Optimal Threshold: {precision[optimal_idx]}\")\n",
    "print(f\"Recall at Optimal Threshold: {recall[optimal_idx]}\")\n",
    "print(f\"F_beta Score at Optimal Threshold: {f_beta_scores[optimal_idx]}\")"
   ]
  },
  {
   "cell_type": "code",
   "execution_count": 0,
   "metadata": {
    "application/vnd.databricks.v1+cell": {
     "cellMetadata": {
      "byteLimit": 2048000,
      "rowLimit": 10000
     },
     "inputWidgets": {},
     "nuid": "03e19f37-f8b2-4494-a0c6-5bf439c3bda3",
     "showTitle": false,
     "tableResultSettingsMap": {},
     "title": ""
    }
   },
   "outputs": [
    {
     "output_type": "execute_result",
     "data": {
      "text/plain": [
       "array([0.70233715, 0.7683008 , 0.77062416, 0.7741469 , 0.87016654,\n",
       "       0.87940484, 0.89415795, 0.89571977, 0.90548784, 0.91886795],\n",
       "      dtype=float32)"
      ]
     },
     "execution_count": 50,
     "metadata": {},
     "output_type": "execute_result"
    }
   ],
   "source": [
    "thresholds"
   ]
  },
  {
   "cell_type": "code",
   "execution_count": 0,
   "metadata": {
    "application/vnd.databricks.v1+cell": {
     "cellMetadata": {
      "byteLimit": 2048000,
      "rowLimit": 10000
     },
     "inputWidgets": {},
     "nuid": "91e2d341-c2ac-4ba0-8b9f-8b8d73d1fc13",
     "showTitle": false,
     "tableResultSettingsMap": {},
     "title": ""
    }
   },
   "outputs": [
    {
     "output_type": "execute_result",
     "data": {
      "text/plain": [
       "array([0.8015873 , 0.77863436, 0.75      , 0.8559322 , 0.83059211,\n",
       "       0.99409449, 0.99019608, 0.98376623, 0.97115385, 0.93518519])"
      ]
     },
     "execution_count": 80,
     "metadata": {},
     "output_type": "execute_result"
    }
   ],
   "source": [
    "f_beta_scores[:10]"
   ]
  },
  {
   "cell_type": "code",
   "execution_count": 0,
   "metadata": {
    "application/vnd.databricks.v1+cell": {
     "cellMetadata": {
      "byteLimit": 2048000,
      "rowLimit": 10000
     },
     "inputWidgets": {},
     "nuid": "4f6aa76c-bb81-4e4b-ba76-3371c7c6cff4",
     "showTitle": false,
     "tableResultSettingsMap": {},
     "title": ""
    }
   },
   "outputs": [
    {
     "output_type": "display_data",
     "data": {
      "image/png": "[encoded data removed]",
      "text/plain": [
       "<Figure size 800x600 with 1 Axes>"
      ]
     },
     "metadata": {},
     "output_type": "display_data"
    }
   ],
   "source": [
    "plt.figure(figsize=(8, 6))\n",
    "plt.plot(thresholds, f_beta_scores[:10], color='black') \n",
    "plt.scatter(thresholds, f_beta_scores[:10], color='blue')  \n",
    "\n",
    "plt.xlabel(r\"$\\theta$\", fontsize=12)\n",
    "plt.ylabel(r'$F_\\beta$ Score', fontsize=12)\n",
    "\n",
    "plt.title(\"Classifier Decision Threshold Tuning\", fontsize=14)\n",
    "\n",
    "plt.grid()\n",
    "# plt.show()\n",
    "plt.savefig(\"threshold.png\")"
   ]
  },
  {
   "cell_type": "code",
   "execution_count": 0,
   "metadata": {
    "application/vnd.databricks.v1+cell": {
     "cellMetadata": {
      "byteLimit": 2048000,
      "rowLimit": 10000
     },
     "inputWidgets": {},
     "nuid": "3066bbe8-9ee8-4923-89d2-6e901effe408",
     "showTitle": false,
     "tableResultSettingsMap": {},
     "title": ""
    }
   },
   "outputs": [
    {
     "output_type": "display_data",
     "data": {
      "image/png": "[encoded data removed]",
      "text/plain": [
       "<Figure size 800x600 with 1 Axes>"
      ]
     },
     "metadata": {},
     "output_type": "display_data"
    }
   ],
   "source": [
    "from sklearn.metrics import average_precision_score\n",
    "average_precision = average_precision_score(y_test, predictions)\n",
    "\n",
    "# Plot Precision-Recall curve\n",
    "plt.figure(figsize=(8, 6))\n",
    "plt.plot(recall, precision, color=\"blue\", label=f\"Precision-Recall Curve (AUC = {average_precision:.2f})\")\n",
    "plt.xlabel(\"Recall\")\n",
    "plt.ylabel(\"Precision\")\n",
    "plt.title(\"Precision-Recall Curve\")\n",
    "plt.legend(loc=\"best\")\n",
    "plt.grid()\n",
    "# plt.show()\n",
    "plt.savefig(\"precision-recall.png\")"
   ]
  },
  {
   "cell_type": "code",
   "execution_count": 0,
   "metadata": {
    "application/vnd.databricks.v1+cell": {
     "cellMetadata": {
      "byteLimit": 2048000,
      "rowLimit": 10000
     },
     "inputWidgets": {},
     "nuid": "b559f5ad-a3c6-4a76-bcbb-e054d2fd852f",
     "showTitle": false,
     "tableResultSettingsMap": {},
     "title": ""
    }
   },
   "outputs": [],
   "source": [
    "cm = np.array([[74, 1], [1, 7]])"
   ]
  },
  {
   "cell_type": "code",
   "execution_count": 0,
   "metadata": {
    "application/vnd.databricks.v1+cell": {
     "cellMetadata": {
      "byteLimit": 2048000,
      "rowLimit": 10000
     },
     "inputWidgets": {},
     "nuid": "d8d1df4b-7ddc-4522-96dd-0b8711533b5a",
     "showTitle": false,
     "tableResultSettingsMap": {},
     "title": ""
    }
   },
   "outputs": [
    {
     "output_type": "display_data",
     "data": {
      "image/png": "[encoded data removed]",
      "text/plain": [
       "<Figure size 800x600 with 1 Axes>"
      ]
     },
     "metadata": {},
     "output_type": "display_data"
    }
   ],
   "source": [
    "# Confusion matrix figure\n",
    "plt.figure(figsize=(8, 6))\n",
    "sns.heatmap(conf, annot=True, fmt=\"d\", cmap=\"Blues\", xticklabels=classes, yticklabels=classes, cbar=False)\n",
    "\n",
    "plt.xlabel(\"Predicted Labels\", fontsize=14, labelpad=10)\n",
    "plt.ylabel(\"True Labels\", fontsize=14, labelpad=10)\n",
    "plt.title(\"Confusion Matrix\", fontsize=16, pad=20)\n",
    "\n",
    "\n",
    "plt.xticks(fontsize=12)\n",
    "plt.yticks(fontsize=12, rotation=0) \n",
    "\n",
    "plt.tight_layout()\n",
    "# plt.show()\n",
    "plt.savefig(\"confusion.png\")"
   ]
  }
 ],
 "metadata": {
  "application/vnd.databricks.v1+notebook": {
   "computePreferences": null,
   "dashboards": [],
   "environmentMetadata": null,
   "inputWidgetPreferences": null,
   "language": "python",
   "notebookMetadata": {
    "pythonIndentUnit": 2
   },
   "notebookName": "Practicum",
   "widgets": {}
  },
  "kernelspec": {
   "display_name": "Python 3 (ipykernel)",
   "language": "python",
   "name": "python3"
  },
  "language_info": {
   "name": "python"
  }
 },
 "nbformat": 4,
 "nbformat_minor": 0
}